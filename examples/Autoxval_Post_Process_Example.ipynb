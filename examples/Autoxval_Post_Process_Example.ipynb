{
 "cells": [
  {
   "cell_type": "markdown",
   "metadata": {},
   "source": [
    "## Analyze AutoXval Results\n",
    "Combine multile csv files from AutoXval run on eagle and plot GHI and DNI"
   ]
  },
  {
   "cell_type": "code",
   "execution_count": null,
   "metadata": {},
   "outputs": [],
   "source": [
    "from mlclouds.autoxval import XVal, AutoXVal, CONFIG\n",
    "from rex.utilities.loggers import init_logger\n",
    "import pandas as pd\n",
    "import glob\n",
    "import matplotlib.pyplot as plt\n",
    "\n",
    "plt.style.use('ggplot')"
   ]
  },
  {
   "cell_type": "code",
   "execution_count": null,
   "metadata": {},
   "outputs": [],
   "source": [
    "# Directory with statistics csv files \n",
    "csv_dir = '*.csv'"
   ]
  },
  {
   "cell_type": "code",
   "execution_count": null,
   "metadata": {},
   "outputs": [],
   "source": [
    "files = glob.glob(csv_dir)\n",
    "print('Loading', files)\n",
    "dfs = (pd.read_csv(file, index_col=0).drop('index', axis=1) for file in files)\n",
    "stats = pd.concat(dfs).reset_index()\n",
    "display(stats)"
   ]
  },
  {
   "cell_type": "code",
   "execution_count": null,
   "metadata": {},
   "outputs": [],
   "source": [
    "fp = '/projects/mlclouds/ground_measurement/surfrad_meta.csv'\n",
    "surf_meta = pd.read_csv(fp, index_col=0)\n",
    "surf_meta.index.name = 'gid'\n",
    "surf_meta = surf_meta[['surfrad_id']]\n",
    "surf_meta"
   ]
  },
  {
   "cell_type": "code",
   "execution_count": null,
   "metadata": {
    "scrolled": false
   },
   "outputs": [],
   "source": [
    "def plot_stats(var):\n",
    "    \"\"\" Plot Baseline and PhyGNN MAE versus # of sites used in training \"\"\"\n",
    "    if var == 'GHI':\n",
    "        ylim = (25, 60)\n",
    "        ytxt = 30\n",
    "    elif var == 'DNI':\n",
    "        ylim = (50, 170)\n",
    "        ytxt = 60\n",
    "    else:\n",
    "        raise AttributeError('{} is not allowed'.format(var))\n",
    "\n",
    "    for site in [0,1,2,3,4,5,6]:\n",
    "        s = stats[(stats.val_site == site) & (stats.Site == surf_meta.surfrad_id[site].upper())]\n",
    "        stats_phygnn = s[(s.Model == 'PhyGNN') & (s.Variable == var)\n",
    "             & (s.Condition == 'Missing Cloud Data')]\n",
    "        stats_base = s[(s.Model == 'Baseline') & (s.Variable == var)\n",
    "             & (s.Condition == 'Missing Cloud Data')]\n",
    "\n",
    "        plt.figure()\n",
    "        plt.plot(stats_base.num_ts, stats_base['MAE (%)'], \n",
    "                 label=f'{site} {surf_meta.surfrad_id[site].upper()} Baseline')\n",
    "        plt.plot(stats_phygnn.num_ts, stats_phygnn['MAE (%)'], marker='x',\n",
    "                 label=f'{site} {surf_meta.surfrad_id[site].upper()} PhyGNN')\n",
    "\n",
    "        plt.xlabel('Number of training sites')\n",
    "        plt.ylabel(f'{var} MAE (%)')\n",
    "        plt.ylim(ylim)\n",
    "        plt.title(f'Cross validating PhyGNN - {surf_meta.surfrad_id[site].upper()}' )\n",
    "        \n",
    "        if stats_phygnn['MAE (%)'].shape == (1,):\n",
    "            print('{} MAE (%) for {} is {}'\n",
    "                  ''.format(var, surf_meta.surfrad_id[site].upper(),\n",
    "                            round(stats_phygnn['MAE (%)'].values[0], 1)))\n",
    "        elif stats_phygnn['MAE (%)'].shape == (0,):\n",
    "            print('Training for {} appeared to have a loss of nan'\n",
    "                  ''.format(surf_meta.surfrad_id[site].upper()))\n",
    "        else:\n",
    "            plt.text(1, ytxt, 'Final PGNN={}%'.format(\n",
    "                     round(stats_phygnn['MAE (%)'].iloc[-1], 1)))\n",
    "            \n",
    "        plt.legend()\n",
    "        plt.show()\n",
    "        \n",
    "plot_stats('GHI')\n",
    "plot_stats('DNI')"
   ]
  },
  {
   "cell_type": "code",
   "execution_count": null,
   "metadata": {},
   "outputs": [],
   "source": []
  }
 ],
 "metadata": {
  "kernelspec": {
   "display_name": "Python 3",
   "language": "python",
   "name": "python3"
  },
  "language_info": {
   "codemirror_mode": {
    "name": "ipython",
    "version": 3
   },
   "file_extension": ".py",
   "mimetype": "text/x-python",
   "name": "python",
   "nbconvert_exporter": "python",
   "pygments_lexer": "ipython3",
   "version": "3.7.6"
  }
 },
 "nbformat": 4,
 "nbformat_minor": 4
}
